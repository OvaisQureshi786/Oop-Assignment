{
  "nbformat": 4,
  "nbformat_minor": 0,
  "metadata": {
    "colab": {
      "provenance": []
    },
    "kernelspec": {
      "name": "python3",
      "display_name": "Python 3"
    },
    "language_info": {
      "name": "python"
    }
  },
  "cells": [
    {
      "cell_type": "markdown",
      "source": [
        "# Theory Questions & Answers"
      ],
      "metadata": {
        "id": "yoRSP9oNWydU"
      }
    },
    {
      "cell_type": "markdown",
      "source": [
        "Q1,What is Object-Oriented programming (OOP)?\n",
        "\n",
        " - Object-Oriented Programming (OOP) is a programming paradigm centered around the concept of objects, which encapsulate both data (attributes) and the methods (functions) that operate on the data. This approach models real-world entities and promotes modular, reusable, and organized code. OOP is widely used in modern programming and is supported by languages like Python, Java, C++, and Ruby.\n",
        "\n",
        "Key Principles of OOP:\n",
        "Encapsulation\n",
        "\n",
        "Bundling data (attributes) and methods (functions) into a single unit (object).\n",
        "Restricting direct access to some components, usually achieved through access modifiers (e.g., public, private).\n",
        "Abstraction\n",
        "\n",
        "Hiding complex implementation details and exposing only the necessary functionalities.\n",
        "For example, a user interacts with a car by driving it, without knowing the intricate workings of its engine.\n",
        "Inheritance\n",
        "\n",
        "Allowing one class (child) to inherit attributes and methods from another class (parent).\n",
        "Promotes code reuse and establishes a hierarchical relationship between classes.\n",
        "Polymorphism\n",
        "\n",
        "Enabling methods or objects to take on multiple forms.\n",
        "Example: A single method name can behave differently depending on the object invoking it (method overloading or overriding).\n",
        "Advantages of OOP:\n",
        "Modularity: Code is organized into classes and objects, making it easier to manage.\n",
        "Reusability: Existing code can be reused through inheritance and composition.\n",
        "Scalability: New features can be added with minimal impact on existing code.\n",
        "Maintainability: Encapsulation reduces dependencies, simplifying debugging and updates.\n"
      ],
      "metadata": {
        "id": "Fg0ba47PXHbU"
      }
    },
    {
      "cell_type": "markdown",
      "source": [
        "Q2, What is class in OOP?\n",
        "\n",
        "- In Object-Oriented Programming (OOP), a class is a blueprint or template for creating objects. It defines the properties (attributes) and behaviors (methods) that the objects created from the class will have.\n",
        "\n",
        "Key Features of a Class:\n",
        "Attributes: These are variables that hold data specific to the object. They define the state or characteristics of an object.\n",
        "\n",
        "Methods: These are functions defined within a class that describe the behavior of the objects.\n",
        "\n",
        "\n",
        "Instantiation: When a class is used to create an object, the process is called instantiation, and the resulting object is an instance of the class.\n"
      ],
      "metadata": {
        "id": "4NOVuSmTYAJN"
      }
    },
    {
      "cell_type": "markdown",
      "source": [
        "Q3, What is an object in OOP?\n",
        "\n",
        "- In Object-Oriented Programming (OOP), an object is an instance of a class. It is a concrete representation of the class, encompassing both attributes (data) and methods (behavior) defined in the class. Objects are the building blocks of OOP and are used to model real-world entities in a program.\n",
        "\n",
        "Characteristics of an Object:\n",
        "State:\n",
        "\n",
        "Defined by the values of its attributes (data).\n",
        "Example: A car object may have attributes like color, brand, and speed.\n",
        "Behavior:\n",
        "\n",
        "Defined by the methods (functions) it can perform.\n",
        "Example: A car object can accelerate, brake, or honk.\n",
        "Identity:\n",
        "\n",
        "Every object has a unique identity, which distinguishes it from other objects.\n",
        "In Python, you can check an object's identity using the id() function."
      ],
      "metadata": {
        "id": "xf-cwpngYeyy"
      }
    },
    {
      "cell_type": "markdown",
      "source": [
        "Q4, What is the difference between abstraction and encapsulation?\n",
        "\n",
        "- Abstraction and encapsulation are both fundamental concepts in Object-Oriented Programming (OOP). While they are related, they serve different purposes and focus on different aspects of object-oriented design.\n",
        "\n",
        "Abstraction\n",
        "Definition:\n",
        "Abstraction is the process of hiding unnecessary details and showing only the essential features of an object. It focuses on the \"what\" an object does rather than \"how\" it does it.\n",
        "\n",
        "Key Points:\n",
        "\n",
        "Deals with design and representation.\n",
        "Achieved through:\n",
        "Abstract classes\n",
        "Interfaces (in some languages)\n",
        "Helps reduce complexity by exposing only relevant details.\n",
        "Example: When you drive a car, you interact with the steering wheel and pedals (the what) without knowing the underlying mechanics of the engine (the how).\n",
        "\n",
        "\n",
        "Encapsulation\n",
        "Definition:\n",
        "Encapsulation is the process of bundling data (attributes) and methods (functions) that operate on the data into a single unit (a class) and restricting access to some of the object's components. It focuses on \"how\" data is protected and controlled.\n",
        "\n",
        "## Key Points:\n",
        "\n",
        "Deals with implementation and access control.\n",
        "Achieved through:\n",
        "Access modifiers (e.g., private, protected, public)\n",
        "Getter and setter methods\n",
        "Ensures data security and prevents unintended interference.\n",
        "Example: A car’s engine is encapsulated, and users can only interact with it through the ignition key and controls, protecting the engine from direct misuse.\n",
        "\n",
        "\n",
        "\n",
        "Comparison Table\n",
        "\n",
        "\n",
        "Aspect\tAbstraction\tEncapsulation\n",
        "Definition\tHides the implementation details and focuses on functionality.\tHides the internal state and controls access to it.\n",
        "Focus\tOn what the object does.\tOn how the object's data is protected and managed.\n",
        "\n",
        "\n",
        "Purpose\tSimplifies design by exposing only relevant features.\tEnsures security and controlled access to data.\n",
        "Achieved Through\tAbstract classes, interfaces, and abstract methods.\tAccess modifiers, private variables, and getter/setter methods.\n",
        "Real-World Example\tDriving a car without knowing how the engine works.\tThe car's engine being accessible only through ignition or controls.\n",
        "\n",
        "\n",
        "Summary:\n",
        "\n",
        "\n",
        "Abstraction is about hiding complexity and focusing on the interface (external functionality).\n",
        "Encapsulation is about hiding the internal state and protecting it from unintended interference or misuse."
      ],
      "metadata": {
        "id": "1Bfuto_7a5lB"
      }
    },
    {
      "cell_type": "markdown",
      "source": [
        "Q5, What are dunder methods in Python?\n",
        "\n",
        "\n",
        "- Dunder methods (short for \"double underscore methods\") are special predefined methods in Python, surrounded by double underscores (e.g., __init__, __str__). They allow customization of object behavior for built-in operations like arithmetic, comparison, and built-in functions.\n",
        "\n",
        "Key Examples:\n",
        "__init__(self, ...): Initializes an object (constructor).\n",
        "__str__(self): Defines the string representation (print(obj)).\n",
        "__add__(self, other): Customizes the + operator.\n",
        "__len__(self): Defines behavior for len(obj).\n",
        "__getitem__(self, key): Allows indexing (obj[key]).\n",
        "Dunder methods enhance integration with Python’s features, enabling intuitive and powerful object behavior."
      ],
      "metadata": {
        "id": "mMar6u6Zi2Qt"
      }
    },
    {
      "cell_type": "markdown",
      "source": [
        "Q6, Explain the concept of inheritance in OOP?\n",
        "\n",
        "- Inheritance in Object-Oriented Programming (OOP) is a mechanism that allows one class (called a child class or subclass) to acquire the properties and behaviors of another class (called a parent class or superclass). It provides a way to reuse existing code, create hierarchical relationships, and extend functionality.\n",
        "\n",
        "Key Features of Inheritance\n",
        "Code Reusability:\n",
        "\n",
        "The child class inherits methods and attributes from the parent class, reducing redundancy.\n",
        "Extensibility:\n",
        "\n",
        "The child class can add new methods or override existing ones from the parent class to customize behavior.\n",
        "Hierarchy:\n",
        "\n",
        "Inheritance establishes a relationship between classes, representing \"is-a\" relationships. For example, \"a car is-a vehicle.\"\n",
        "Polymorphism Support:\n",
        "\n",
        "Enables child classes to behave differently for the same methods (method overriding).\n",
        "Types of Inheritance:\n",
        "Single Inheritance:\n",
        "\n",
        "A child class inherits from one parent class.\n",
        "\n",
        "Multiple Inheritance:\n",
        "\n",
        "A child class inherits from multiple parent classes.\n",
        "\n",
        "Multilevel Inheritance:\n",
        "\n",
        "A class inherits from a child class, forming a chain.\n",
        "\n",
        "Hierarchical Inheritance:\n",
        "\n",
        "Multiple classes inherit from the same parent class.\n",
        "\n",
        "Hybrid Inheritance:\n",
        "\n",
        "A combination of two or more types of inheritance.\n",
        "\n",
        "\n",
        "Advantages of Inheritance\n",
        "Encourages code reuse, reducing duplication.\n",
        "Simplifies code maintenance by promoting modular design.\n",
        "Supports polymorphism, allowing dynamic behavior.\n",
        "Establishes logical relationships between classes.\n",
        "Disadvantages of Inheritance\n",
        "Can lead to tightly coupled code, making changes in the parent class affect child classes.\n",
        "Overuse can result in complex and hard-to-maintain hierarchies.\n",
        "Not all relationships are naturally suited for inheritance (composition is sometimes a better choice).\n",
        "Inheritance is a powerful OOP concept that, when used effectively, improves code readability, maintainability, and modularity.\n"
      ],
      "metadata": {
        "id": "H36HALn1klqB"
      }
    },
    {
      "cell_type": "markdown",
      "source": [
        "Q7, What is polymorphism in OOP?\n",
        "   - Polymorphism in Object-Oriented Programming (OOP) is the ability of different objects to respond to the same method or operation in their own way. It allows one interface to represent different underlying forms, promoting flexibility and reusability.\n",
        "\n",
        "Key Types of Polymorphism:\n",
        "Method Overriding (Runtime Polymorphism):\n",
        "\n",
        "A child class provides its own implementation of a method inherited from a parent class.\n",
        "\n",
        "Method Overloading (Compile-Time Polymorphism):\n",
        "\n",
        "Multiple methods with the same name but different parameters (not natively supported in Python).\n",
        "Operator Overloading:\n",
        "\n",
        "Defining custom behavior for operators like + or * using dunder methods.\n",
        "\n",
        "Polymorphism allows objects of different classes to be treated uniformly, simplifying code and enhancing extensibility.\n"
      ],
      "metadata": {
        "id": "kscsYh9klbRD"
      }
    },
    {
      "cell_type": "markdown",
      "source": [
        "Q8, How is an encapsulation achieved in Python?\n",
        "\n",
        "- Encapsulation in Python is achieved by bundling the data (attributes) and methods (functions) that operate on the data into a single unit (class) and restricting direct access to some of the object's components. This is done to ensure data security and maintain control over how the data is accessed and modified.\n",
        "\n",
        "Key Techniques for Achieving Encapsulation:\n",
        "Private Attributes:\n",
        "Use double underscores (__) before an attribute name to make it private, restricting access from outside the class.\n",
        "\n",
        "Public Methods (Getters and Setters):\n",
        "Use public methods to provide controlled access to private attributes.\n",
        "\n",
        "Property Decorators:\n",
        "Python provides the @property decorator to create getter methods for private attributes, making the class more flexible while keeping the attribute encapsulated.\n",
        "\n",
        "Benefits of Encapsulation:\n",
        "Data Security: Prevents unauthorized access and modification of internal state.\n",
        "Code Flexibility: Methods can control how data is accessed or changed.\n",
        "Modularity: Keeps the internal details hidden and simplifies interactions with the object."
      ],
      "metadata": {
        "id": "_qbnkf2zmc1P"
      }
    },
    {
      "cell_type": "markdown",
      "source": [
        "Q9, What is a constructor in Python?\n",
        "\n",
        "- In Python, a constructor is a special method that is used to initialize a newly created object of a class. The constructor method is automatically called when an object is instantiated, and it allows you to set initial values for the object's attributes.\n",
        "\n",
        "Key Points:\n",
        "Constructor Method: In Python, the constructor is defined using the __init__() method.\n",
        "Automatic Invocation: The __init__() method is automatically called when a new object is created.\n",
        "Self Parameter: The first parameter of the constructor is always self, which refers to the current instance of the class.\n",
        "\n"
      ],
      "metadata": {
        "id": "_KQtSa8XoNZ3"
      }
    },
    {
      "cell_type": "markdown",
      "source": [
        "Q10, What are class and static methods in Python?\n",
        "\n",
        "- In Python, class methods and static methods are two types of methods that are defined within a class but differ in how they access the class and its attributes.\n",
        "\n",
        "Class Method\n",
        "A class method is a method that is bound to the class, not the instance of the class. It takes the class itself as the first argument, typically named cls, and is used to operate on the class itself rather than instance-specific data.\n",
        "\n",
        "Defined with: @classmethod decorator\n",
        "First argument: cls (the class itself)\n",
        "Access: Can access class variables but not instance variables.\n",
        "Usage: Used for factory methods, modifying class state, or working with class-level data.\n",
        "\n",
        "\n",
        "Static Method\n",
        "A static method is a method that doesn't access or modify the class or instance. It is bound to the class and doesn't require an instance to be called. It is defined using the @staticmethod decorator and does not take self or cls as the first argument.\n",
        "\n",
        "Defined with: @staticmethod decorator\n",
        "First argument: None (no self or cls)\n",
        "Access: Does not have access to the instance or class-specific data.\n",
        "Usage: Used for utility functions or methods that perform operations independent of the class's state.\n",
        "\n",
        "\n",
        "Summary:\n",
        "Class Method: Works with the class itself and can modify class-level data. Defined using @classmethod.\n",
        "\n",
        "\n",
        "Static Method: A general method that doesn't operate on class or instance data. Defined using @staticmethod."
      ],
      "metadata": {
        "id": "mVuAInSSpbiv"
      }
    },
    {
      "cell_type": "markdown",
      "source": [
        "Q11, What is Method overloading in Python?\n",
        "\n",
        "- Method overloading in Python refers to the ability to define multiple methods with the same name but different signatures (i.e., different numbers or types of parameters). However, Python does not support method overloading in the traditional sense, as seen in languages like Java or C++. In Python, the last defined method with a given name will overwrite any previous methods with the same name.\n",
        "\n",
        "Workaround for Method Overloading in Python:\n",
        "While Python doesn't support traditional method overloading, you can achieve similar functionality using:\n",
        "\n",
        "Default arguments: Methods can accept default values for arguments, allowing them to be called with varying numbers of arguments.\n",
        "Variable-length arguments: Using *args (for non-keyword arguments) or **kwargs (for keyword arguments) to accept a flexible number of arguments.\n",
        "\n",
        "\n",
        "Summary:\n",
        "Python does not support traditional method overloading where multiple methods with the same name exist with different signatures.\n",
        "However, method overloading-like behavior can be achieved by using default arguments or variable-length argument lists."
      ],
      "metadata": {
        "id": "9IvNzH9SqsnO"
      }
    },
    {
      "cell_type": "markdown",
      "source": [
        "Q12, What is method overriding in OOP?\n",
        "\n",
        "- Method overriding in Object-Oriented Programming (OOP) is a feature that allows a subclass to provide a specific implementation of a method that is already defined in its superclass. The method in the subclass has the same name, same parameters, and same return type as the method in the superclass.\n",
        "\n",
        "This allows the subclass to modify or extend the behavior of the inherited method.\n",
        "\n",
        "Key Points:\n",
        "Same Method Signature: The method in the subclass must have the same name and parameters as the method in the superclass.\n",
        "Runtime Polymorphism: Method overriding is a form of runtime polymorphism, where the method called is determined at runtime based on the object type.\n",
        "Customization: It allows the subclass to change or enhance the behavior of the inherited method.\n",
        "\n",
        "Advantages of Method Overriding:\n",
        "Dynamic Behavior: Enables dynamic method resolution, allowing subclass-specific behavior at runtime.\n",
        "Code Reusability: Inherited methods can be reused and extended, reducing code duplication.\n",
        "Customization: Subclasses can modify the behavior of inherited methods to suit their needs.\n",
        "Summary:\n",
        "Method overriding allows a subclass to provide its own implementation of a method defined in the superclass, ensuring that the subclass can customize or extend the behavior of inherited methods.\n"
      ],
      "metadata": {
        "id": "VAnAKH-Mr5tV"
      }
    },
    {
      "cell_type": "markdown",
      "source": [
        "Q13, What is property decorator in Python?\n",
        "\n",
        "-  In Python, the @property decorator is used to define a method as a property, which allows you to access it like an attribute, but still retain the behavior of a method. This can be useful when you want to compute a value dynamically, but still provide a clean, attribute-like access interface.\n",
        "\n",
        "When you use @property, the method can be accessed as if it were an attribute, without needing parentheses. It provides an elegant way to define getter methods and even setter and deleter methods.\n",
        "\n",
        "Here’s how the @property decorator works:\n",
        "\n",
        "Key Points:\n",
        "Getter: The method decorated with @property acts like a getter. When accessed, it runs like a method but looks like an attribute.\n",
        "Setter: If you want to set a value for the property, you can define a setter method using @<property_name>.setter.\n",
        "Deleter: You can also define a deleter method using @<property_name>.deleter, which can be used to delete the property.\n",
        "This mechanism is helpful for situations where you need to encapsulate logic or validation when getting, setting, or deleting attributes.\n",
        "\n"
      ],
      "metadata": {
        "id": "dwHqHV0ms-SU"
      }
    },
    {
      "cell_type": "markdown",
      "source": [
        "Q14, What is polymorphism in important in OOP?\n",
        "\n",
        "- Polymorphism is a fundamental concept in Object-Oriented Programming (OOP) that allows objects of different classes to be treated as objects of a common superclass. It enables the same method or function to behave differently based on the object that calls it. Polymorphism is crucial for writing flexible, reusable, and maintainable code.\n",
        "\n",
        "Types of Polymorphism:\n",
        "Method Overloading (Compile-time Polymorphism):\n",
        "\n",
        "This allows a class to have multiple methods with the same name but different signatures (e.g., different number or type of parameters).\n",
        "Python does not support traditional method overloading like other languages (Java, C++), but similar behavior can be achieved through default parameters or variable-length arguments.\n",
        "Method Overriding (Runtime Polymorphism):\n",
        "\n",
        "This happens when a subclass provides a specific implementation of a method that is already defined in its superclass. The overridden method in the subclass is called when the method is invoked on an instance of the subclass.\n",
        "\n",
        "Why is Polymorphism Important in OOP?\n",
        "Flexibility:\n",
        "\n",
        "Polymorphism allows you to write more general and reusable code. You can write functions or methods that work with objects of different types in a generic way, without worrying about the specific class of the object.\n",
        "Maintainability:\n",
        "\n",
        "With polymorphism, code can be more easily maintained and updated. New subclasses can be added, and existing code doesn't need to be modified because the method calls remain consistent.\n",
        "Abstraction:\n",
        "\n",
        "Polymorphism enables the concept of abstraction, where you can interact with objects at a higher level of generality. You don't need to know the exact class of an object to use its functionality, just its interface (methods).\n",
        "Dynamic Method Binding:\n",
        "\n",
        "In languages like Python, polymorphism is achieved at runtime, meaning the appropriate method is determined based on the object type. This is referred to as dynamic method binding or late binding.\n",
        "Reduced Complexity:\n",
        "\n",
        "By allowing a single interface to be used for different types of objects, polymorphism reduces the complexity of code and makes it easier to extend and integrate with other parts of a program.\n",
        "\n",
        "Conclusion:\n",
        "\n",
        "\n",
        "Polymorphism is important in OOP because it promotes code reusability, flexibility, and scalability, allowing objects to interact seamlessly regardless of their specific types. It helps reduce code duplication and allows for more maintainable and extensible systems.\n",
        "\n"
      ],
      "metadata": {
        "id": "qyuijMdEvl2F"
      }
    },
    {
      "cell_type": "markdown",
      "source": [
        "Q15, What is an abstract class in python?\n",
        "\n",
        "- An abstract class in Python is a class that cannot be instantiated directly. It is meant to serve as a blueprint for other classes. Abstract classes can define abstract methods, which are methods that are declared but contain no implementation. Subclasses that inherit from the abstract class must provide their own implementation of these abstract methods.\n",
        "\n",
        "Abstract classes are useful when you want to define a common interface for a group of related classes, but you don't want to provide a concrete implementation in the base class.\n",
        "\n",
        "Key Points:\n",
        "An abstract class can contain both abstract methods (methods that have no implementation) and concrete methods (methods with implementation).\n",
        "A class that contains one or more abstract methods must be declared as abstract by using the ABC (Abstract Base Class) module.\n",
        "Abstract methods must be implemented by any subclass of the abstract class.\n",
        "Abstract classes cannot be instantiated directly.\n",
        "\n",
        "Important Concepts:\n",
        "Abstract Method:\n",
        "\n",
        "A method defined in an abstract class that has no implementation in that class. It is meant to be implemented by subclasses. The @abstractmethod decorator is used to mark a method as abstract.\n",
        "Concrete Method:\n",
        "\n",
        "A method that is implemented in the abstract class and can be inherited as-is by subclasses.\n",
        "Abstract Base Class (ABC):\n",
        "\n",
        "To create an abstract class, you need to inherit from the ABC class provided by the abc module.\n",
        "Cannot Instantiate:\n",
        "\n",
        "An abstract class cannot be instantiated directly. If you try to do so, you will get a TypeError. However, subclasses that provide implementations for the abstract methods can be instantiated.\n",
        "Why Use Abstract Classes?\n",
        "Enforcing a Common Interface: Abstract classes are useful when you want to ensure that all subclasses follow a specific structure, i.e., they implement certain methods.\n",
        "\n",
        "Code Reusability: You can define common behavior in the abstract class and avoid repeating code in subclasses. Abstract classes can provide concrete methods that can be reused by subclasses.\n",
        "\n",
        "Defining a Template: Abstract classes can be used to define a template for other classes to follow. This is especially helpful when creating complex frameworks or libraries that require a consistent structure.\n",
        "\n",
        "Conclusion:\n",
        "An abstract class in Python is a powerful tool for defining a common interface and ensuring that all subclasses follow a certain structure. It enables you to enforce a contract for subclasses while still allowing for flexibility in how the methods are implemented."
      ],
      "metadata": {
        "id": "dm601MCWw-7c"
      }
    },
    {
      "cell_type": "markdown",
      "source": [
        "Q16, What are the advantages of OOP?\n",
        "\n",
        "- Object-Oriented Programming (OOP) offers several advantages that make it a popular programming paradigm, especially for larger and more complex software systems. Here are the main benefits of OOP:\n",
        "\n",
        "### 1. Modularity\n",
        "Description: OOP organizes code into distinct classes and objects, which represent real-world entities. Each class is like a blueprint for objects, and the functionality is encapsulated within these classes.\n",
        "Advantage: This modular approach allows developers to build and manage software in smaller, manageable sections. It makes the codebase easier to maintain, test, and debug.\n",
        "### 2. Reusability\n",
        "Description: Once a class is written, it can be reused across different parts of the program or even in different projects. This is especially true with inheritance, where subclasses can inherit properties and behaviors from a parent class.\n",
        "Advantage: Reusability minimizes redundancy, saving time and effort. Developers can build upon existing classes without rewriting code, leading to faster development.\n",
        "### 3. Maintainability\n",
        "Description: Since OOP emphasizes modularity, each class can be modified independently of others as long as the interface (methods) remains consistent. This makes it easier to maintain and extend software.\n",
        "Advantage: When bugs are discovered or changes need to be made, they can often be isolated to a single class, reducing the impact on the rest of the program and making maintenance more straightforward.\n",
        "### 4. Encapsulation\n",
        "Description: Encapsulation is the concept of hiding the internal workings of an object and only exposing necessary functionality through public methods (getters, setters). The object's internal state is protected from direct modification.\n",
        "Advantage: This improves security by ensuring that data is accessed and modified in controlled ways. It also helps to reduce complexity by hiding the details that users don’t need to know about.\n",
        "### 5. Abstraction\n",
        "Description: Abstraction allows you to define classes and objects that focus on the essential properties and behaviors while hiding the unnecessary details. It can be achieved using abstract classes and interfaces.\n",
        "Advantage: Abstraction simplifies the development process by allowing developers to focus on high-level functionality and design, rather than getting bogged down by low-level implementation details.\n",
        "### 6. Inheritance\n",
        "Description: Inheritance allows one class (the subclass) to inherit properties and behaviors from another class (the superclass). This enables the creation of a hierarchy of classes.\n",
        "Advantage: It promotes code reuse, reduces redundancy, and makes it easier to implement new features or extend functionality. Subclasses can add specific behavior or override methods from the parent class to customize behavior.\n",
        "### 7. Polymorphism\n",
        "Description: Polymorphism allows one interface (method or property) to be used for different types of objects. In OOP, this is achieved through method overriding or overloading, where a method can behave differently based on the object.\n",
        "Advantage: Polymorphism provides flexibility and extensibility in code, allowing developers to write more general and reusable code. It allows for the easy addition of new classes with minimal changes to existing code.\n",
        "### 8. Easier Collaboration\n",
        "Description: Because OOP divides software into self-contained objects, multiple developers can work on different classes or modules independently.\n",
        "Advantage: This improves collaboration in team-based projects. Developers can work on separate parts of the system without interfering with each other's code, leading to more efficient teamwork and parallel development.\n",
        "### 9. Design Patterns\n",
        "Description: OOP encourages the use of design patterns, which are well-established solutions to common problems in software design. Patterns like Singleton, Factory, Observer, etc., provide reusable, tested ways to structure code.\n",
        "Advantage: Using design patterns helps developers avoid reinventing the wheel and promotes the use of proven techniques, which can improve the quality and reliability of software.\n",
        "### 10. Real-World Modeling\n",
        "Description: OOP maps well to real-world systems, as it uses objects to represent entities with attributes and behaviors. Classes and objects are designed to mimic real-world objects and relationships.\n",
        "Advantage: This makes OOP more intuitive and natural for developers. It also aligns well with how humans think about the world, making the system easier to understand and communicate.\n",
        "### 11. Scalability\n",
        "Description: OOP makes it easier to scale applications because new functionality can be added through new classes or by extending existing ones. It also supports a modular structure that is conducive to scaling up the system.\n",
        "Advantage: As applications grow, OOP makes it easier to manage increased complexity, add features, or refactor the system without introducing major changes to the existing structure.\n",
        "\n",
        "\n",
        "### 12. Improved Debugging and Testing\n",
        "Description: Since each class is responsible for its own behavior and state, debugging becomes more straightforward. Objects are self-contained, and problems can often be traced to specific objects or methods.\n",
        "Advantage: Testing is simplified because you can isolate individual objects and test their behavior in isolation. Unit tests are easier to write for small, independent classes or modules.\n",
        "Conclusion:\n",
        "The advantages of Object-Oriented Programming—modularity, reusability, maintainability, encapsulation, abstraction, inheritance, polymorphism, and others—make it a powerful paradigm for building scalable, efficient, and manageable software. OOP helps developers write cleaner, more structured code that is easier to maintain, extend, and understand. These features are particularly beneficial when working with large and complex software systems."
      ],
      "metadata": {
        "id": "y6lfxSYdxham"
      }
    },
    {
      "cell_type": "markdown",
      "source": [
        "Q17, What is the difference between a class variable and an instance variable?\n",
        "\n",
        "- In Python, class variables and instance variables are both used to store data associated with objects, but they differ in their scope, usage, and behavior.\n",
        "\n",
        "1. Class Variable\n",
        "Definition: A class variable is a variable that is shared by all instances of a class. It is defined inside the class but outside any methods (including the constructor __init__). Class variables are typically used for values that are common to all instances of the class.\n",
        "Scope: It is accessible through the class itself as well as through any instance of the class.\n",
        "Shared Among Instances: Since class variables are shared, if one instance changes the value of a class variable, it affects all other instances that access the same variable.\n",
        "\n",
        "2. Instance Variable\n",
        "Definition: An instance variable is a variable that is associated with a specific instance of a class. It is typically defined inside the __init__ method, and each instance of the class has its own copy of the instance variables.\n",
        "Scope: It is accessible only through an instance of the class and not directly through the class itself.\n",
        "Unique to Each Instance: Each object (instance) has its own copy of the instance variable, meaning changes to an instance variable in one object will not affect other objects.\n",
        "\n",
        "Summary:\n",
        "Class variables are shared among all instances of a class, and their value is the same across all instances unless explicitly overridden at the instance level.\n",
        "Instance variables are unique to each object (instance) created from the class, and changes to one instance’s variables do not affect other instances.\n",
        "\n"
      ],
      "metadata": {
        "id": "OWKWiG7sy3Rv"
      }
    },
    {
      "cell_type": "markdown",
      "source": [
        "Q18, What is multiple inheritance in Python?\n",
        "\n",
        "- Multiple inheritance in Python is a feature that allows a class to inherit from more than one parent class. This means a subclass can have multiple base classes, and it can inherit attributes and methods from all of those classes.\n",
        "\n",
        "\n",
        "Key Points:\n",
        "Inheritance from Multiple Classes:\n",
        "\n",
        "In the example above, ClassC inherits from both ClassA and ClassB, and thus it has access to the methods method_A() from ClassA and method_B() from ClassB, in addition to its own method_C().\n",
        "Method Resolution Order (MRO):\n",
        "\n",
        "When multiple inheritance is involved, Python follows a specific order to resolve method calls. The method resolution order determines which method gets called if a method with the same name is defined in multiple classes.\n",
        "Python uses the C3 Linearization algorithm (or C3 superclass linearization) to determine the MRO.\n",
        "You can view the MRO of a class using the mro() method or the __mro__ attribute:\n",
        "\n",
        "\n",
        "Diamond Problem:\n",
        "\n",
        "A potential issue in multiple inheritance is the diamond problem, where a class inherits from two classes that have a common ancestor. This can lead to ambiguity about which method should be called.\n",
        "\n",
        "Advantages of Multiple Inheritance:\n",
        "\n",
        "Code Reusability: You can reuse the code from multiple classes without having to duplicate it.\n",
        "Flexibility: It allows for more complex relationships and behavior, as a class can inherit properties and methods from several classes.\n",
        "Better Organization: Multiple inheritance allows you to organize code in a way that makes it easier to manage and extend by breaking it down into smaller, logical components.\n",
        "Disadvantages of Multiple Inheritance:\n",
        "\n",
        "Complexity: With multiple base classes, it becomes harder to track which method is called, especially when there's overlap between parent classes.\n",
        "Maintenance: As classes become more complex, maintaining and debugging the code can become challenging.\n",
        "\n",
        "\n",
        "Conclusion:\n",
        "Multiple inheritance in Python allows a class to inherit from more than one parent class, making it a powerful feature for creating flexible and reusable code. However, it requires careful consideration of the method resolution order (MRO) and can sometimes lead to complexities like the diamond problem. Python's approach to MRO, specifically the C3 linearization, helps resolve these issues by providing a predictable method search order."
      ],
      "metadata": {
        "id": "vRkewhZUzX79"
      }
    },
    {
      "cell_type": "markdown",
      "source": [
        "Q19, Explain the purpose of \"\"_ _str_ _ 'and _ _ repr_ _ \"\" methods in Python?\n",
        "\n",
        "\n",
        "- In Python, the __str__ and __repr__ methods are used to define how an object should be represented as a string when it is printed or logged. These methods serve different purposes and provide different string representations of an object.\n",
        "\n",
        "1. __str__ Method:\n",
        "Purpose: The __str__ method is intended to provide a human-readable or informal string representation of an object. It is called by the built-in str() function and when using print() on an object.\n",
        "Usage: This method should return a string that describes the object in a way that is easy for humans to understand. It's often used to provide a user-friendly display of an object's data.\n",
        "\n",
        "2. __repr__ Method:\n",
        "Purpose: The __repr__ method is intended to provide an official or unambiguous string representation of an object that can ideally be used to recreate the object. It is called by the built-in repr() function, and is also used when an object is displayed in the interactive Python shell or in debugging tools.\n",
        "Usage: The goal of __repr__ is to return a string that, when passed to the eval() function, would ideally recreate the object (though this isn't always feasible). The string should be a valid Python expression. If a __str__ method is not defined, the __repr__ method will be used as a fallback when printing or converting the object to a string.\n",
        "\n",
        "When to Use __str__ vs __repr__:\n",
        "Use __str__: When you want to provide a simple, human-readable string representation of the object, typically for end-users.\n",
        "Use __repr__: When you want to provide a detailed, precise string representation of the object, typically for debugging or logging purposes. It should ideally allow the object to be recreated.\n",
        "\n",
        "\n",
        "Summary:\n",
        "\n",
        "__str__: Aimed at providing a user-friendly string representation for informal use (e.g., print()).\n",
        "__repr__: Aimed at providing a precise and unambiguous string representation, typically used for debugging and logging (e.g., in the Python shell or logging). It is often used as a fallback if __str__ is not defined."
      ],
      "metadata": {
        "id": "zAOShwNH0Q7k"
      }
    },
    {
      "cell_type": "markdown",
      "source": [
        "Q20, What is the significance of the 'super()' function in python?\n",
        "\n",
        "- The super() function in Python is a built-in function that is primarily used in the context of inheritance and method resolution. It allows you to call a method from a parent class (or superclass) from within a subclass. This is especially useful when dealing with multiple inheritance, as it helps to avoid redundant code and ensures the correct method resolution order (MRO) is followed.\n",
        "\n",
        "Key Significance of super():\n",
        "Calling Methods from Parent Classes:\n",
        "\n",
        "The primary use of super() is to call methods from the parent class, ensuring that the method from the superclass is invoked, even if the subclass has overridden it.\n",
        "This is useful when extending the functionality of a parent class method without completely overriding it.\n",
        "\n",
        "Avoiding Redundant Code:\n",
        "\n",
        "When a subclass overrides a method, it can still call the method from its parent class using super(), preventing the need to repeat code. This is especially helpful in multiple inheritance situations, where different parent classes may have their own implementations of a method.\n",
        "\n",
        "Facilitating Multiple Inheritance:\n",
        "\n",
        "In the context of multiple inheritance, super() ensures that methods from all parent classes are called in the correct order, based on the Method Resolution Order (MRO). The MRO determines the order in which classes are considered when looking for a method or attribute.\n",
        "This helps in resolving potential conflicts or ambiguity when two or more parent classes have methods with the same name.\n",
        "\n",
        "Calling Constructor of Parent Class:\n",
        "\n",
        "super() is commonly used in the constructor (__init__) method to call the constructor of a parent class. This is essential in inheritance when you want to initialize attributes or set up behaviors from the parent class in addition to the subclass's initialization.\n",
        "\n",
        "Works with Multiple Inheritance in Complex Hierarchies:\n",
        "\n",
        "In cases of multiple inheritance with a complex class hierarchy, super() helps ensure that the methods from each class in the hierarchy are called according to the MRO. This helps in avoiding issues like calling the same method from multiple classes.\n",
        "\n",
        "Summary of super():\n",
        "\n",
        "Purpose: Calls a method from a parent class, typically used in the context of inheritance.\n",
        "Avoids Redundant Code: Allows subclasses to call methods from the parent class without duplicating code.\n",
        "Works with Multiple Inheritance: Ensures correct method resolution based on the MRO, preventing ambiguity in multiple inheritance scenarios.\n",
        "Initialization: Commonly used in the constructor (__init__) to initialize attributes or behaviors from the parent class.\n",
        "Improves Code Readability and Maintainability: Ensures that the hierarchy and method calls are clear and predictable.\n"
      ],
      "metadata": {
        "id": "hqikRRMe1BAl"
      }
    },
    {
      "cell_type": "markdown",
      "source": [
        "Q21, What is the significance of the _ _del _ _ method in Python?\n",
        "\n",
        "- The __del__ method in Python is a destructor method that is called when an object is about to be destroyed. It allows you to define any cleanup actions that need to take place before an object is removed from memory. The __del__ method is invoked when an object's reference count reaches zero, which typically happens when there are no more references to that object, and it is eligible for garbage collection.\n",
        "\n",
        "Key Points About __del__:\n",
        "Purpose of __del__:\n",
        "\n",
        "The primary purpose of the __del__ method is to allow for cleanup operations or resource deallocation when an object is being destroyed.\n",
        "This could involve tasks such as closing file handles, network connections, releasing database resources, or freeing memory.\n",
        "Automatic Invocation:\n",
        "\n",
        "The __del__ method is automatically called when the object is about to be destroyed, which generally occurs when there are no more references to the object.\n",
        "However, the exact timing of when the __del__ method is called is not guaranteed because it depends on the garbage collection process. In some cases, if there are circular references (e.g., objects referencing each other), the __del__ method might not be called immediately.\n",
        "Syntax: The __del__ method is defined within a class like any other method, but it has special meaning for object cleanup.\n",
        "\n",
        "Garbage Collection:\n",
        "\n",
        "Python uses reference counting and garbage collection to manage memory. When an object's reference count drops to zero, the object becomes eligible for garbage collection.\n",
        "The __del__ method is typically called just before the object is destroyed by the garbage collector, but the exact moment is not strictly deterministic. This means the __del__ method might not always be called immediately after an object goes out of scope.\n",
        "When __del__ Might Not Be Called:\n",
        "\n",
        "Circular References: If objects are involved in circular references (e.g., obj1 references obj2, and obj2 references obj1), the __del__ method may not be called if the garbage collector cannot resolve the circular reference.\n",
        "Program Exit: When the Python interpreter exits, the __del__ method may not be called for objects that are still in memory. This can happen if there are uncollected objects at the time of interpreter shutdown.\n",
        "Limitations:\n",
        "\n",
        "It's generally not recommended to rely on __del__ for important cleanup, especially when dealing with resources that need to be released reliably (e.g., closing files or network connections). It's better to use context managers (via the with statement) or explicitly call cleanup methods in most cases.\n",
        "If __del__ raises an exception, that exception is ignored, and the interpreter continues execution.\n",
        "The __del__ method is not always called in a timely manner, so relying on it for critical cleanup tasks is risky.\n",
        "Alternatives:\n",
        "\n",
        "Context Managers: Instead of using __del__, it's often better to use a context manager (via __enter__ and __exit__ methods) for resource management. This ensures that resources are cleaned up immediately when done, even in the case of exceptions.\n",
        "Explicit Cleanup Methods: It's generally better to define a method for cleanup (e.g., close() or dispose()) and explicitly call it when you're done with the object.\n",
        "\n",
        "Summary of __del__:\n",
        "\n",
        "\n",
        "The __del__ method is a destructor used for cleanup when an object is about to be destroyed.\n",
        "It is automatically called when an object's reference count reaches zero, though its invocation is not guaranteed and can be delayed due to garbage collection.\n",
        "It is useful for cleanup tasks like closing files, network connections, or releasing other resources.\n",
        "In cases of circular references, the __del__ method may not be called immediately or at all.\n",
        "Best practice: It's better to use context managers or explicitly call cleanup methods instead of relying on __del__ for critical resource management."
      ],
      "metadata": {
        "id": "CuRJbAHv49u6"
      }
    },
    {
      "cell_type": "markdown",
      "source": [
        "Q22, What is the difference between @static method and @class method in Python?\n",
        "\n",
        "- In Python, both @staticmethod and @classmethod are used to define methods that are associated with a class rather than an instance of that class. However, they serve different purposes and have distinct behaviors. Here’s a detailed comparison between the two:\n",
        "\n",
        "1. @staticmethod:\n",
        "Purpose: A @staticmethod is a method that belongs to the class but does not access or modify the class or instance state. It does not take the self (instance) or cls (class) parameter, and it behaves like a regular function, but is scoped to the class namespace.\n",
        "Usage: It is typically used for utility functions that operate on the parameters passed to them, but do not need access to class or instance attributes or methods.\n",
        "Access: A static method cannot access or modify the class or instance state (i.e., it does not have access to self or cls).\n",
        "Call: You can call a static method using the class name or an instance of the class.\n",
        "\n",
        "\n",
        "2. @classmethod:\n",
        "Purpose: A @classmethod is a method that is bound to the class rather than the instance. It takes a cls parameter, which refers to the class itself, and can access or modify class-level attributes (but not instance-level attributes).\n",
        "Usage: It is typically used for factory methods, which create instances of the class, or methods that need to modify class-level variables.\n",
        "Access: A class method can access and modify class attributes, but cannot access instance attributes unless they are passed explicitly.\n",
        "Call: You can call a class method using the class name or an instance of the class.\n",
        "\n",
        "When to Use Which:\n",
        "Use @staticmethod when the method does not need access to the class or instance. It is a utility function that operates solely on its parameters.\n",
        "\n",
        "Example use case: A method that performs a calculation or transformation that doesn’t require any information about the class or instance.\n",
        "\n",
        "Use @classmethod when the method needs to modify or interact with class-level attributes or when you need to create factory methods that instantiate objects using different parameters.\n",
        "\n",
        "Example use case: A method that creates instances of the class based on different input data or modifies the class-level state.\n",
        "\n",
        "Summary:\n",
        "\n",
        "@staticmethod: Method bound to the class but does not access the class or instance data. Best for utility functions.\n",
        "\n",
        "@classmethod: Method bound to the class, can access and modify class-level attributes, and is typically used for factory methods or methods that manipulate class-level state.\n"
      ],
      "metadata": {
        "id": "K2D4nmZ-9Oqr"
      }
    },
    {
      "cell_type": "markdown",
      "source": [
        "Q23, How does polymorphism work in Python with inheritance?\n",
        "\n",
        "- In Python, polymorphism is a concept where a single function or method can operate on objects of different types. When combined with inheritance, polymorphism allows child classes to provide their own implementations of methods defined in a parent class. Python uses method overriding to achieve polymorphism in the context of inheritance.\n",
        "\n",
        "Here's a breakdown of how polymorphism works in Python with inheritance:\n",
        "\n",
        "1. Method Overriding:\n",
        "When a method in a parent class is redefined in a child class, the child class method overrides the parent class method. This is the core of polymorphism, as the method call is determined by the object type at runtime, not the reference type.\n",
        "\n",
        "2. Dynamic Dispatch:\n",
        "Python is dynamically typed, meaning method calls are resolved at runtime. When you invoke a method on an object, Python will first check if the method exists in the object's class. If not, it will look in the parent classes in the method resolution order (MRO).\n",
        "\n",
        "\n",
        "\n",
        "Key Points:\n",
        "\n",
        "\n",
        "Dynamic Dispatch: The method that gets called depends on the type of the object, not the type of the reference.\n",
        "Method Overriding: Child classes override parent class methods to provide specific behavior.\n",
        "Interface Consistency: Polymorphism allows you to call the same method on different objects, but each may behave differently based on the object's class. This enables flexible code.\n",
        "\n",
        "\n",
        "\n",
        "\n",
        "\n"
      ],
      "metadata": {
        "id": "-RJg2TBx_FQT"
      }
    },
    {
      "cell_type": "markdown",
      "source": [
        "Q24, What is method chaining in Python OOP?\n",
        "\n",
        "\n",
        "- Method chaining in Python is a programming technique where multiple methods are called on the same object in a single statement, one after the other. This is made possible by having each method return the object itself (self), allowing you to call additional methods on that object without needing to reference it again.\n",
        "\n",
        "Key Concepts:\n",
        "Object returns itself: Each method in the chain must return the object (self), so that the next method can be called on it.\n",
        "Fluent interface: This is another term sometimes used to describe method chaining, emphasizing how it creates a fluid, readable, and concise style of coding.\n",
        "\n",
        "\n",
        "Benefits of Method Chaining:\n",
        "Concise Code: It reduces the need for multiple lines of code and makes the logic more compact and readable.\n",
        "Fluent Interface: It creates a more \"fluent\" and expressive interface, especially for configuring objects or performing a series of actions.\n",
        "Cleaner Syntax: It avoids the repetition of an object reference when calling multiple methods.\n",
        "Common Use Cases:\n",
        "Builders: For constructing objects step by step.\n",
        "Configuration: For setting up or configuring objects with various attributes or options.\n",
        "Fluent APIs: Where multiple operations on an object are performed in a readable and easy-to-follow manner.\n",
        "Important Considerations:\n",
        "Not all methods should be chained. Methods that return non-object values (like None) should not be part of a chain, as they break the chaining pattern.\n",
        "This approach is best suited when each method needs to operate on the same object.\n"
      ],
      "metadata": {
        "id": "W7qkCx0A_q-A"
      }
    },
    {
      "cell_type": "markdown",
      "source": [
        "Q25, What is the purpose of the _ _call_ _ Method in Python?\n",
        "\n",
        "\n",
        "- The __call__ method in Python is a spePurpose:\n",
        "Customization of Behavior: It allows customization of how instances behave when called directly.\n",
        "Cleaner Code: It can be used to define callable objects that encapsulate behavior, leading to more readable and modular code.\n",
        "Functionality as Objects: It can be used to create objects that behave like functions, combining the power of both classes and functions.\n",
        "This method is often used in scenarios like creating functors, decorators, or callback objects.cial method that allows an instance of a class to be called as if it were a function. When you define the __call__ method in a class, you can use instances of that class as callable objects.\n",
        "\n",
        "Here’s how it works:\n",
        "\n",
        "If an instance of a class has a __call__ method, you can \"call\" that instance just like a function by using parentheses ().\n",
        "The __call__ method can accept arguments, just like a normal function\n",
        "\n",
        "\n",
        "\n",
        "Purpose:\n",
        "Customization of Behavior: It allows customization of how instances behave when called directly.\n",
        "Cleaner Code: It can be used to define callable objects that encapsulate behavior, leading to more readable and modular code.\n",
        "Functionality as Objects: It can be used to create objects that behave like functions, combining the power of both classes and functions.\n",
        "This method is often used in scenarios like creating functors, decorators, or callback objects.\n",
        "\n",
        "\n",
        "\n",
        "\n",
        "\n",
        "\n"
      ],
      "metadata": {
        "id": "i_wZTENZ-oUp"
      }
    },
    {
      "cell_type": "markdown",
      "source": [
        "# Practical Questions & Answers!"
      ],
      "metadata": {
        "id": "N4eJHci1-YD5"
      }
    },
    {
      "cell_type": "markdown",
      "source": [
        "Q1, Create a parent class Animal with a method speak() that prints a generic message. Create a child class Dog that overrides the speak() method to print \"Bark!\"?"
      ],
      "metadata": {
        "id": "O-NPmT6pU-r5"
      }
    },
    {
      "cell_type": "code",
      "source": [
        "\"\"\"\n",
        " Here’s a Python example demonstrating the implementation of the described classes:\n",
        "Explanation:\n",
        "Parent Class Animal:\n",
        "Defines a speak method that prints a generic message.\n",
        "Child Class Dog:\n",
        "Overrides the speak method to print \"Bark!\".\n",
        "Testing:\n",
        "Instances of both classes are created and their respective speak methods are called to observe the behavior.\n",
        "\"\"\"\n",
        "\n",
        "\n",
        "# Parent class\n",
        "class Animal:\n",
        "    def speak(self):\n",
        "        print(\"This is a generic animal sound.\")\n",
        "\n",
        "# Child class\n",
        "class Dog(Animal):\n",
        "    def speak(self):\n",
        "        print(\"Bark!\")\n",
        "\n",
        "# Test the classes\n",
        "# Create an instance of Animal\n",
        "generic_animal = Animal()\n",
        "generic_animal.speak()  # Output: This is a generic animal sound.\n",
        "\n",
        "# Create an instance of Dog\n",
        "dog = Dog()\n",
        "dog.speak()  # Output: Bark!\n"
      ],
      "metadata": {
        "colab": {
          "base_uri": "https://localhost:8080/"
        },
        "id": "GT0vWrL8VfvA",
        "outputId": "a8602233-538b-4fbf-cec6-4ed9bdff3dfa"
      },
      "execution_count": 3,
      "outputs": [
        {
          "output_type": "stream",
          "name": "stdout",
          "text": [
            "This is a generic animal sound.\n",
            "Bark!\n"
          ]
        }
      ]
    },
    {
      "cell_type": "markdown",
      "source": [
        "Q2, Write a program to create an abstract class Shape with a method area(). Derive classes Circle and Rectangle from it and implement the area() method in both?"
      ],
      "metadata": {
        "id": "gC2ltM2LW2JB"
      }
    },
    {
      "cell_type": "code",
      "source": [
        "\"\"\"\n",
        "Here's how you can create an abstract class Shape and implement the area() method in its derived classes Circle and Rectangle:\n",
        "Explanation:\n",
        "Abstract Base Class Shape:\n",
        "\n",
        "Defined using the ABC module.\n",
        "Contains an abstract method area() that must be implemented by derived classes.\n",
        "Derived Class Circle:\n",
        "\n",
        "Accepts the radius in the constructor and implements the area() method to calculate the area of a circle.\n",
        "Derived Class Rectangle:\n",
        "\n",
        "Accepts length and width in the constructor and implements the area() method to calculate the area of a rectangle.\n",
        "Testing:\n",
        "\n",
        "Instances of Circle and Rectangle are created, and their area() methods are called to compute and display their respective areas.\n",
        "\"\"\"\n",
        "\n",
        "from abc import ABC, abstractmethod\n",
        "import math\n",
        "\n",
        "# Abstract class\n",
        "class Shape(ABC):\n",
        "    @abstractmethod\n",
        "    def area(self):\n",
        "        pass\n",
        "\n",
        "# Derived class: Circle\n",
        "class Circle(Shape):\n",
        "    def __init__(self, radius):\n",
        "        self.radius = radius\n",
        "\n",
        "    def area(self):\n",
        "        return math.pi * self.radius ** 2\n",
        "\n",
        "# Derived class: Rectangle\n",
        "class Rectangle(Shape):\n",
        "    def __init__(self, length, width):\n",
        "        self.length = length\n",
        "        self.width = width\n",
        "\n",
        "    def area(self):\n",
        "        return self.length * self.width\n",
        "\n",
        "# Test the implementation\n",
        "circle = Circle(5)\n",
        "print(f\"Area of Circle: {circle.area():.2f}\")  # Output: Area of Circle: 78.54\n",
        "\n",
        "rectangle = Rectangle(4, 6)\n",
        "print(f\"Area of Rectangle: {rectangle.area()}\")  # Output: Area of Rectangle: 24\n"
      ],
      "metadata": {
        "colab": {
          "base_uri": "https://localhost:8080/"
        },
        "id": "H-YdV9HzXJOf",
        "outputId": "fa79a137-5918-43d0-f943-2bff47e04807"
      },
      "execution_count": 4,
      "outputs": [
        {
          "output_type": "stream",
          "name": "stdout",
          "text": [
            "Area of Circle: 78.54\n",
            "Area of Rectangle: 24\n"
          ]
        }
      ]
    },
    {
      "cell_type": "markdown",
      "source": [
        "Q3, Implement a multi-level inheritance scenario where a class Vehicle has an attribute type. Derive a class Car\n",
        "and further derive a class ElectricCar that adds a battery attribute?"
      ],
      "metadata": {
        "id": "lZ9-2z7GXtvZ"
      }
    },
    {
      "cell_type": "code",
      "source": [
        "\"\"\"\n",
        "Here's an implementation of multi-level inheritance in Python where Vehicle, Car, and ElectricCar are used to demonstrate the scenario:\n",
        "Explanation:\n",
        "Base Class Vehicle:\n",
        "\n",
        "Has an attribute vehicle_type and a method display_type().\n",
        "Derived Class Car:\n",
        "\n",
        "Inherits from Vehicle.\n",
        "Adds an additional attribute brand and a method display_info().\n",
        "Further Derived Class ElectricCar:\n",
        "\n",
        "Inherits from Car.\n",
        "Adds an additional attribute battery_capacity and a method display_details().\n",
        "Testing:\n",
        "\n",
        "Instances of Vehicle, Car, and ElectricCar are created.\n",
        "The respective methods are called to display details at each level of the inheritance hierarchy.\n",
        "\"\"\"\n",
        "\n",
        "# Base class\n",
        "class Vehicle:\n",
        "    def __init__(self, vehicle_type):\n",
        "        self.vehicle_type = vehicle_type\n",
        "\n",
        "    def display_type(self):\n",
        "        print(f\"Vehicle Type: {self.vehicle_type}\")\n",
        "\n",
        "# Derived class\n",
        "class Car(Vehicle):\n",
        "    def __init__(self, vehicle_type, brand):\n",
        "        super().__init__(vehicle_type)\n",
        "        self.brand = brand\n",
        "\n",
        "    def display_info(self):\n",
        "        self.display_type()\n",
        "        print(f\"Car Brand: {self.brand}\")\n",
        "\n",
        "# Further derived class\n",
        "class ElectricCar(Car):\n",
        "    def __init__(self, vehicle_type, brand, battery_capacity):\n",
        "        super().__init__(vehicle_type, brand)\n",
        "        self.battery_capacity = battery_capacity\n",
        "\n",
        "    def display_details(self):\n",
        "        self.display_info()\n",
        "        print(f\"Battery Capacity: {self.battery_capacity} kWh\")\n",
        "\n",
        "# Test the implementation\n",
        "vehicle = Vehicle(\"General Vehicle\")\n",
        "vehicle.display_type()\n",
        "# Output: Vehicle Type: General Vehicle\n",
        "\n",
        "car = Car(\"Car\", \"Toyota\")\n",
        "car.display_info()\n",
        "# Output:\n",
        "# Vehicle Type: Car\n",
        "# Car Brand: Toyota\n",
        "\n",
        "electric_car = ElectricCar(\"Electric Car\", \"Tesla\", 100)\n",
        "electric_car.display_details()\n",
        "# Output:\n",
        "# Vehicle Type: Electric Car\n",
        "# Car Brand: Tesla\n",
        "# Battery Capacity: 100 kWh\n"
      ],
      "metadata": {
        "colab": {
          "base_uri": "https://localhost:8080/"
        },
        "id": "_tEwAiT7XvVf",
        "outputId": "36e88db8-cbb8-41f0-d97e-cfe2bee20119"
      },
      "execution_count": 5,
      "outputs": [
        {
          "output_type": "stream",
          "name": "stdout",
          "text": [
            "Vehicle Type: General Vehicle\n",
            "Vehicle Type: Car\n",
            "Car Brand: Toyota\n",
            "Vehicle Type: Electric Car\n",
            "Car Brand: Tesla\n",
            "Battery Capacity: 100 kWh\n"
          ]
        }
      ]
    },
    {
      "cell_type": "markdown",
      "source": [
        "Q4, Implement a multi-level inheritance scenario where a class Vehicle has an attribute type. Derive a class Car and further derive a class Electric Car that adds a battery attribute?"
      ],
      "metadata": {
        "id": "p5RL3KDpYM5u"
      }
    },
    {
      "cell_type": "code",
      "source": [
        "\"\"\"\n",
        "Here’s how you can implement a multi-level inheritance scenario as described:\n",
        "Explanation:\n",
        "Base Class Vehicle:\n",
        "\n",
        "Has an attribute vehicle_type and a method display_type() to display it.\n",
        "Derived Class Car:\n",
        "\n",
        "Inherits from Vehicle.\n",
        "Adds an attribute brand and a method display_info() to display both the vehicle type and the brand.\n",
        "Further Derived Class ElectricCar:\n",
        "\n",
        "Inherits from Car.\n",
        "Adds an attribute battery_capacity and a method display_details() to display the vehicle type, brand, and battery capacity.\n",
        "Testing:\n",
        "\n",
        "Instances of Vehicle, Car, and ElectricCar are created.\n",
        "Their respective methods are called to display attributes from each level of the inheritance hierarchy.\n",
        "\"\"\"\n",
        "\n",
        "# Base class\n",
        "class Vehicle:\n",
        "    def __init__(self, vehicle_type):\n",
        "        self.vehicle_type = vehicle_type\n",
        "\n",
        "    def display_type(self):\n",
        "        print(f\"Vehicle Type: {self.vehicle_type}\")\n",
        "\n",
        "# Derived class\n",
        "class Car(Vehicle):\n",
        "    def __init__(self, vehicle_type, brand):\n",
        "        super().__init__(vehicle_type)\n",
        "        self.brand = brand\n",
        "\n",
        "    def display_info(self):\n",
        "        self.display_type()\n",
        "        print(f\"Car Brand: {self.brand}\")\n",
        "\n",
        "# Further derived class\n",
        "class ElectricCar(Car):\n",
        "    def __init__(self, vehicle_type, brand, battery_capacity):\n",
        "        super().__init__(vehicle_type, brand)\n",
        "        self.battery_capacity = battery_capacity\n",
        "\n",
        "    def display_details(self):\n",
        "        self.display_info()\n",
        "        print(f\"Battery Capacity: {self.battery_capacity} kWh\")\n",
        "\n",
        "# Test the implementation\n",
        "vehicle = Vehicle(\"General Vehicle\")\n",
        "vehicle.display_type()\n",
        "# Output: Vehicle Type: General Vehicle\n",
        "\n",
        "car = Car(\"Car\", \"Toyota\")\n",
        "car.display_info()\n",
        "# Output:\n",
        "# Vehicle Type: Car\n",
        "# Car Brand: Toyota\n",
        "\n",
        "electric_car = ElectricCar(\"Electric Car\", \"Tesla\", 100)\n",
        "electric_car.display_details()\n",
        "# Output:\n",
        "# Vehicle Type: Electric Car\n",
        "# Car Brand: Tesla\n",
        "# Battery Capacity: 100 kWh\n"
      ],
      "metadata": {
        "colab": {
          "base_uri": "https://localhost:8080/"
        },
        "id": "zpmueeD4Vofh",
        "outputId": "1a676b59-71f1-4f91-ff80-a9c4add18409"
      },
      "execution_count": 7,
      "outputs": [
        {
          "output_type": "stream",
          "name": "stdout",
          "text": [
            "Vehicle Type: General Vehicle\n",
            "Vehicle Type: Car\n",
            "Car Brand: Toyota\n",
            "Vehicle Type: Electric Car\n",
            "Car Brand: Tesla\n",
            "Battery Capacity: 100 kWh\n"
          ]
        }
      ]
    },
    {
      "cell_type": "markdown",
      "source": [
        "Q5, Write a program to demonstrate encapsulation by creating a class Bank Account with private attributes balance and methods to deposit, withdraw, and check balance?"
      ],
      "metadata": {
        "id": "UC6_e5KaY1MG"
      }
    },
    {
      "cell_type": "code",
      "source": [
        "\"\"\"\n",
        "Here's an example of a Python program demonstrating encapsulation with a BankAccount class:\n",
        "Explanation:\n",
        "Private Attribute:\n",
        "\n",
        "__balance is a private attribute, accessible only within the BankAccount class.\n",
        "Encapsulation:\n",
        "\n",
        "Access to __balance is controlled through public methods: deposit(), withdraw(), and check_balance().\n",
        "This ensures that the balance cannot be directly modified from outside the class.\n",
        "Methods:\n",
        "\n",
        "deposit(amount): Adds a positive amount to the balance.\n",
        "withdraw(amount): Deducts an amount from the balance if sufficient funds are available.\n",
        "check_balance(): Returns the current balance.\n",
        "Testing:\n",
        "\n",
        "Various operations demonstrate how the private attribute is protected and can only be manipulated via the defined methods.\n",
        "\"\"\"\n",
        "\n",
        "class BankAccount:\n",
        "    def __init__(self, initial_balance=0):\n",
        "        # Private attribute\n",
        "        self.__balance = initial_balance\n",
        "\n",
        "    # Method to deposit money\n",
        "    def deposit(self, amount):\n",
        "        if amount > 0:\n",
        "            self.__balance += amount\n",
        "            print(f\"Deposited: ${amount:.2f}\")\n",
        "        else:\n",
        "            print(\"Deposit amount must be positive.\")\n",
        "\n",
        "    # Method to withdraw money\n",
        "    def withdraw(self, amount):\n",
        "        if amount > 0:\n",
        "            if amount <= self.__balance:\n",
        "                self.__balance -= amount\n",
        "                print(f\"Withdrew: ${amount:.2f}\")\n",
        "            else:\n",
        "                print(\"Insufficient balance.\")\n",
        "        else:\n",
        "            print(\"Withdrawal amount must be positive.\")\n",
        "\n",
        "    # Method to check balance\n",
        "    def check_balance(self):\n",
        "        return self.__balance\n",
        "\n",
        "# Test the implementation\n",
        "account = BankAccount(100)  # Create an account with an initial balance of $100\n",
        "\n",
        "account.deposit(50)          # Output: Deposited: $50.00\n",
        "account.withdraw(30)         # Output: Withdrew: $30.00\n",
        "print(f\"Balance: ${account.check_balance():.2f}\")  # Output: Balance: $120.00\n",
        "\n",
        "account.withdraw(200)        # Output: Insufficient balance.\n",
        "account.deposit(-20)         # Output: Deposit amount must be positive.\n"
      ],
      "metadata": {
        "colab": {
          "base_uri": "https://localhost:8080/"
        },
        "id": "StnKWTk_YX8J",
        "outputId": "78be93d4-7924-494f-cd1a-213a228c7488"
      },
      "execution_count": 8,
      "outputs": [
        {
          "output_type": "stream",
          "name": "stdout",
          "text": [
            "Deposited: $50.00\n",
            "Withdrew: $30.00\n",
            "Balance: $120.00\n",
            "Insufficient balance.\n",
            "Deposit amount must be positive.\n"
          ]
        }
      ]
    },
    {
      "cell_type": "markdown",
      "source": [
        "Q6, Demonstrate runtime polymorphism using a method play() in a base class Instrument. Derive classes Guitar and Piano that implement their own version of play()?"
      ],
      "metadata": {
        "id": "Ts1FLFVBZYCf"
      }
    },
    {
      "cell_type": "code",
      "source": [
        "\"\"\"\n",
        "Here's an example demonstrating runtime polymorphism with the Instrument base class and its derived classes Guitar and Piano:\n",
        "Explanation:\n",
        "Base Class Instrument:\n",
        "\n",
        "Contains a play() method that provides a generic message.\n",
        "Derived Classes Guitar and Piano:\n",
        "\n",
        "Override the play() method to provide specific behavior for their instruments.\n",
        "Runtime Polymorphism:\n",
        "\n",
        "The play_instrument() function accepts an object of type Instrument.\n",
        "The actual method that gets executed is determined at runtime based on the object type (Guitar or Piano).\n",
        "Testing:\n",
        "\n",
        "Instances of Instrument, Guitar, and Piano are passed to the play_instrument() function, demonstrating the ability to call the appropriate play() method based on the object type.\n",
        "\"\"\"\n",
        "# Base class\n",
        "class Instrument:\n",
        "    def play(self):\n",
        "        print(\"Playing some instrument.\")\n",
        "\n",
        "# Derived class: Guitar\n",
        "class Guitar(Instrument):\n",
        "    def play(self):\n",
        "        print(\"Strumming the guitar strings.\")\n",
        "\n",
        "# Derived class: Piano\n",
        "class Piano(Instrument):\n",
        "    def play(self):\n",
        "        print(\"Playing the piano keys.\")\n",
        "\n",
        "# Function to demonstrate polymorphism\n",
        "def play_instrument(instrument):\n",
        "    instrument.play()\n",
        "\n",
        "# Test the implementation\n",
        "instrument = Instrument()\n",
        "guitar = Guitar()\n",
        "piano = Piano()\n",
        "\n",
        "play_instrument(instrument)  # Output: Playing some instrument.\n",
        "play_instrument(guitar)      # Output: Strumming the guitar strings.\n",
        "play_instrument(piano)       # Output: Playing the piano keys.\n",
        "\n",
        "\n",
        "\n",
        "\n",
        "\n"
      ],
      "metadata": {
        "colab": {
          "base_uri": "https://localhost:8080/"
        },
        "id": "1l8U0HALZIIb",
        "outputId": "372d94a6-cf0d-43f6-dc5a-71cfa51650f3"
      },
      "execution_count": 9,
      "outputs": [
        {
          "output_type": "stream",
          "name": "stdout",
          "text": [
            "Playing some instrument.\n",
            "Strumming the guitar strings.\n",
            "Playing the piano keys.\n"
          ]
        }
      ]
    },
    {
      "cell_type": "markdown",
      "source": [
        "Q7, Create a class Math Operations with a class method add_numbers() to add two numbers and a static method subtract_numbers() to subtract two numbers?"
      ],
      "metadata": {
        "id": "m5oj1-KtZ7Ap"
      }
    },
    {
      "cell_type": "code",
      "source": [
        "# Here’s an example of a class MathOperations with a class method add_numbers() and a static method subtract_numbers():\n",
        "\n",
        "class MathOperations:\n",
        "    # Class method to add two numbers\n",
        "    @classmethod\n",
        "    def add_numbers(cls, a, b):\n",
        "        return a + b\n",
        "\n",
        "    # Static method to subtract two numbers\n",
        "    @staticmethod\n",
        "    def subtract_numbers(a, b):\n",
        "        return a - b\n",
        "\n",
        "# Test the implementation\n",
        "# Using the class method\n",
        "result_add = MathOperations.add_numbers(10, 5)\n",
        "print(f\"Addition Result: {result_add}\")  # Output: Addition Result: 15\n",
        "\n",
        "# Using the static method\n",
        "result_subtract = MathOperations.subtract_numbers(10, 5)\n",
        "print(f\"Subtraction Result: {result_subtract}\")  # Output: Subtraction Result: 5\n"
      ],
      "metadata": {
        "colab": {
          "base_uri": "https://localhost:8080/"
        },
        "id": "CVPunL2GZoPJ",
        "outputId": "8e9cd43f-a844-4bae-bb5a-cd7d476e6ced"
      },
      "execution_count": 13,
      "outputs": [
        {
          "output_type": "stream",
          "name": "stdout",
          "text": [
            "Addition Result: 15\n",
            "Subtraction Result: 5\n"
          ]
        }
      ]
    },
    {
      "cell_type": "markdown",
      "source": [
        "Q8, Implement a class Person with a class method to count the total number of persons created?"
      ],
      "metadata": {
        "id": "8dwLFUM6bAeP"
      }
    },
    {
      "cell_type": "code",
      "source": [
        "\"\"\"\n",
        "Here's an implementation of a Person class with a class method to count the total number of instances created:\n",
        "Explanation:\n",
        "Class Variable count:\n",
        "\n",
        "Keeps track of the total number of Person instances created.\n",
        "Shared across all instances of the class.\n",
        "Constructor __init__():\n",
        "\n",
        "Initializes a new Person object with a name attribute.\n",
        "Increments the count class variable each time a new instance is created.\n",
        "Class Method total_persons:\n",
        "\n",
        "Defined with the @classmethod decorator.\n",
        "Accesses the count class variable to return the total number of persons created.\n",
        "Testing:\n",
        "\n",
        "Three Person objects are created (p1, p2, p3).\n",
        "The total_persons() class method is called to retrieve and display the total count.\n",
        "\"\"\"\n",
        "\n",
        "class Person:\n",
        "    # Class variable to keep track of the count\n",
        "    count = 0\n",
        "\n",
        "    def __init__(self, name):\n",
        "        self.name = name\n",
        "        # Increment the count when a new instance is created\n",
        "        Person.count += 1\n",
        "\n",
        "    @classmethod\n",
        "    def total_persons(cls):\n",
        "        return cls.count\n",
        "\n",
        "# Test the implementation\n",
        "p1 = Person(\"Alice\")\n",
        "p2 = Person(\"Bob\")\n",
        "p3 = Person(\"Charlie\")\n",
        "\n",
        "print(f\"Total persons created: {Person.total_persons()}\")  # Output: Total persons created: 3\n"
      ],
      "metadata": {
        "colab": {
          "base_uri": "https://localhost:8080/"
        },
        "id": "mD7FcjI_aJan",
        "outputId": "69f62666-1b33-4b7d-8e92-cea465c478dc"
      },
      "execution_count": 14,
      "outputs": [
        {
          "output_type": "stream",
          "name": "stdout",
          "text": [
            "Total persons created: 3\n"
          ]
        }
      ]
    },
    {
      "cell_type": "markdown",
      "source": [
        "Q9, Write a class Fraction with attributes numerator and denominator. Override the str method to display the fraction as numerator/denominator\"?"
      ],
      "metadata": {
        "id": "sxSdKKjubnao"
      }
    },
    {
      "cell_type": "code",
      "source": [
        "\"\"\"\n",
        "Here's the implementation of the Fraction class with overridden __str__ method:\n",
        "Explanation:\n",
        "Attributes:\n",
        "\n",
        "numerator: Stores the numerator of the fraction.\n",
        "denominator: Stores the denominator of the fraction.\n",
        "Overriding __str__:\n",
        "\n",
        "The __str__ method is overridden to return a string representation in the format numerator/denominator.\n",
        "This method is automatically called when the object is passed to print() or converted to a string.\n",
        "Testing:\n",
        "\n",
        "An instance of Fraction is created with numerator=5 and denominator=8.\n",
        "Printing the object (fraction) outputs \"5/8\".\n",
        "\"\"\"\n",
        "\n",
        "\n",
        "class Fraction:\n",
        "    def __init__(self, numerator, denominator):\n",
        "        # Initialize attributes\n",
        "        self.numerator = numerator\n",
        "        self.denominator = denominator\n",
        "\n",
        "    def __str__(self):\n",
        "        # Display the fraction in \"numerator/denominator\" format\n",
        "        return f\"{self.numerator}/{self.denominator}\"\n",
        "\n",
        "# Test the implementation\n",
        "fraction = Fraction(5, 8)\n",
        "print(fraction)  # Output: 5/8\n"
      ],
      "metadata": {
        "colab": {
          "base_uri": "https://localhost:8080/"
        },
        "id": "DUHjdDZObTIg",
        "outputId": "7e29d837-ebb9-4f44-c9b2-096816c10b97"
      },
      "execution_count": 15,
      "outputs": [
        {
          "output_type": "stream",
          "name": "stdout",
          "text": [
            "5/8\n"
          ]
        }
      ]
    },
    {
      "cell_type": "markdown",
      "source": [
        "Q10, Demonstrate operator overloading by creating a class Vector and overriding the add method to add two vectors?"
      ],
      "metadata": {
        "id": "IQZe5qeQcKCX"
      }
    },
    {
      "cell_type": "code",
      "source": [
        "\"\"\"\n",
        "Here's an implementation of operator overloading for the addition of two vectors in a Vector class. We will override the __add__ method to add two vectors using the + operator:\n",
        "Explanation:\n",
        "Constructor __init__:\n",
        "\n",
        "Initializes the vector with x and y components.\n",
        "Overloading __add__:\n",
        "\n",
        "The __add__ method is overridden to perform vector addition. It adds the corresponding x and y components of the two vectors.\n",
        "This allows us to use the + operator to add two Vector objects.\n",
        "Overriding __str__:\n",
        "\n",
        "The __str__ method is overridden to provide a string representation of the vector in the form (x, y).\n",
        "Testing:\n",
        "\n",
        "Two Vector objects (vector1 and vector2) are created.\n",
        "The + operator is used to add the two vectors, and the result is printed, showing the vector sum.\n",
        "\"\"\"\n",
        "\n",
        "class Vector:\n",
        "    def __init__(self, x, y):\n",
        "        self.x = x\n",
        "        self.y = y\n",
        "\n",
        "    # Overloading the + operator\n",
        "    def __add__(self, other):\n",
        "        # Add corresponding components of two vectors\n",
        "        return Vector(self.x + other.x, self.y + other.y)\n",
        "\n",
        "    def __str__(self):\n",
        "        # String representation of the vector in (x, y) format\n",
        "        return f\"({self.x}, {self.y})\"\n",
        "\n",
        "# Test the implementation\n",
        "vector1 = Vector(2, 3)\n",
        "vector2 = Vector(4, 5)\n",
        "\n",
        "# Adding two vectors using the overloaded + operator\n",
        "result = vector1 + vector2\n",
        "\n",
        "# Print the result\n",
        "print(f\"Result of adding vectors: {result}\")  # Output: Result of adding vectors: (6, 8)\n"
      ],
      "metadata": {
        "colab": {
          "base_uri": "https://localhost:8080/"
        },
        "id": "NVxbW8H8b5X5",
        "outputId": "2cce1355-bff0-4337-8e64-98c5054f1e03"
      },
      "execution_count": 16,
      "outputs": [
        {
          "output_type": "stream",
          "name": "stdout",
          "text": [
            "Result of adding vectors: (6, 8)\n"
          ]
        }
      ]
    },
    {
      "cell_type": "markdown",
      "source": [
        "Q11, Create a class Person with attributes name and age. Add a method greet() that prints \"Hello, my name is {name} and I am {age} years old.\"?"
      ],
      "metadata": {
        "id": "9O2IOggLci2m"
      }
    },
    {
      "cell_type": "code",
      "source": [
        "\"\"\"\n",
        "Here’s how you can create a Person class with name and age attributes and a greet() method:\n",
        "Explanation:\n",
        "Constructor __init__:\n",
        "\n",
        "Initializes the name and age attributes when an instance of the Person class is created.\n",
        "Method greet:\n",
        "\n",
        "Prints a greeting message using the name and age attributes of the person.\n",
        "Testing:\n",
        "\n",
        "Two instances of the Person class (person1 and person2) are created with different names and ages.\n",
        "The greet() method is called on each instance to display the personalized greeting\n",
        "\"\"\"\n",
        "\n",
        "class Person:\n",
        "    def __init__(self, name, age):\n",
        "        # Initialize the attributes\n",
        "        self.name = name\n",
        "        self.age = age\n",
        "\n",
        "    def greet(self):\n",
        "        # Method to print the greeting message\n",
        "        print(f\"Hello, my name is {self.name} and I am {self.age} years old.\")\n",
        "\n",
        "# Test the implementation\n",
        "person1 = Person(\"Alice\", 30)\n",
        "person1.greet()  # Output: Hello, my name is Alice and I am 30 years old.\n",
        "\n",
        "person2 = Person(\"Bob\", 25)\n",
        "person2.greet()  # Output: Hello, my name is Bob and I am 25 years old.\n"
      ],
      "metadata": {
        "colab": {
          "base_uri": "https://localhost:8080/"
        },
        "id": "PULRAFltcYJY",
        "outputId": "0c6c85f4-5def-46c9-9650-da9cfbc0f0b7"
      },
      "execution_count": 17,
      "outputs": [
        {
          "output_type": "stream",
          "name": "stdout",
          "text": [
            "Hello, my name is Alice and I am 30 years old.\n",
            "Hello, my name is Bob and I am 25 years old.\n"
          ]
        }
      ]
    },
    {
      "cell_type": "markdown",
      "source": [
        "Q12, Implement a class Student with attributes name and grades. Create a method average_grade() to compute the average of the grades?"
      ],
      "metadata": {
        "id": "vvuo5Iy9c9o-"
      }
    },
    {
      "cell_type": "code",
      "source": [
        "\"\"\"\n",
        "Here's the implementation of a Student class with name and grades attributes, and a method average_grade() to compute the average of the grades:\n",
        "Explanation:\n",
        "Constructor __init__:\n",
        "\n",
        "The name and grades attributes are initialized when creating a Student object. The grades is expected to be a list of numeric values representing the student's grades.\n",
        "Method average_grade:\n",
        "\n",
        "This method calculates the average of the grades using the formula sum(grades) / len(grades).\n",
        "If the list of grades is empty, it returns 0 to avoid division by zero.\n",
        "Testing:\n",
        "\n",
        "Two instances of the Student class (student1 and student2) are created with different names and grades.\n",
        "The average_grade() method is called on each instance to compute and display their average grades.\n",
        "\"\"\"\n",
        "class Student:\n",
        "    def __init__(self, name, grades):\n",
        "        # Initialize the student's name and grades\n",
        "        self.name = name\n",
        "        self.grades = grades\n",
        "\n",
        "    def average_grade(self):\n",
        "        # Calculate the average of the grades\n",
        "        if len(self.grades) > 0:\n",
        "            return sum(self.grades) / len(self.grades)\n",
        "        else:\n",
        "            return 0  # Return 0 if there are no grades\n",
        "\n",
        "# Test the implementation\n",
        "student1 = Student(\"Alice\", [90, 85, 88, 92])\n",
        "student2 = Student(\"Bob\", [78, 80, 85, 82])\n",
        "\n",
        "# Print the average grades for the students\n",
        "print(f\"{student1.name}'s average grade: {student1.average_grade():.2f}\")  # Output: Alice's average grade: 88.75\n",
        "print(f\"{student2.name}'s average grade: {student2.average_grade():.2f}\")  # Output: Bob's average grade: 81.75\n"
      ],
      "metadata": {
        "colab": {
          "base_uri": "https://localhost:8080/"
        },
        "id": "KswdJSuRcx44",
        "outputId": "e493000c-a901-4535-a391-0ef2266a9cd3"
      },
      "execution_count": 18,
      "outputs": [
        {
          "output_type": "stream",
          "name": "stdout",
          "text": [
            "Alice's average grade: 88.75\n",
            "Bob's average grade: 81.25\n"
          ]
        }
      ]
    },
    {
      "cell_type": "markdown",
      "source": [
        "Q13, Create a class Rectangle with methods set_dimensions() to set the dimensions and area() to calculate the area?"
      ],
      "metadata": {
        "id": "uwnvK8RcdcsI"
      }
    },
    {
      "cell_type": "code",
      "source": [
        "\"\"\"\n",
        "Here's an implementation of a Rectangle class with methods set_dimensions() to set the dimensions and area() to calculate the area:\n",
        "Explanation:\n",
        "Constructor __init__:\n",
        "\n",
        "Initializes the length and width attributes to 0 by default.\n",
        "Method set_dimensions:\n",
        "\n",
        "Takes two parameters (length and width) and sets the dimensions of the rectangle.\n",
        "Method area:\n",
        "\n",
        "Calculates the area of the rectangle using the formula: area = length * width.\n",
        "Testing:\n",
        "\n",
        "An instance of the Rectangle class is created.\n",
        "The set_dimensions() method is used to set the length and width.\n",
        "The area() method is called to compute and display the area of the rectangle.\n",
        "\"\"\"\n",
        "\n",
        "class Rectangle:\n",
        "    def __init__(self):\n",
        "        # Initialize dimensions to 0 by default\n",
        "        self.length = 0\n",
        "        self.width = 0\n",
        "\n",
        "    def set_dimensions(self, length, width):\n",
        "        # Set the dimensions of the rectangle\n",
        "        self.length = length\n",
        "        self.width = width\n",
        "\n",
        "    def area(self):\n",
        "        # Calculate the area of the rectangle\n",
        "        return self.length * self.width\n",
        "\n",
        "# Test the implementation\n",
        "rectangle = Rectangle()\n",
        "\n",
        "# Set the dimensions of the rectangle\n",
        "rectangle.set_dimensions(5, 3)\n",
        "\n",
        "# Calculate and print the area of the rectangle\n",
        "print(f\"Area of the rectangle: {rectangle.area()}\")  # Output: Area of the rectangle: 15\n"
      ],
      "metadata": {
        "colab": {
          "base_uri": "https://localhost:8080/"
        },
        "id": "pV5V36EZdO8o",
        "outputId": "d067d115-7e67-448d-8cac-23f36cf3fb91"
      },
      "execution_count": 19,
      "outputs": [
        {
          "output_type": "stream",
          "name": "stdout",
          "text": [
            "Area of the rectangle: 15\n"
          ]
        }
      ]
    },
    {
      "cell_type": "markdown",
      "source": [
        "Q14, Create a class Employee with a method calculate_salary() that computes the salary based on hours worked and hourly rate. Create a derived class Manager that adds a bonus to the salary?"
      ],
      "metadata": {
        "id": "yEIyEMQ2dyzf"
      }
    },
    {
      "cell_type": "code",
      "source": [
        "\"\"\"\n",
        "Here’s how you can implement an Employee class with a method calculate_salary() to compute the salary based on hours worked and hourly rate. We will then create a derived class Manager that adds a bonus to the salary.\n",
        "Explanation:\n",
        "Base Class Employee:\n",
        "\n",
        "Attributes:\n",
        "name: The name of the employee.\n",
        "hours_worked: The number of hours worked.\n",
        "hourly_rate: The rate at which the employee is paid per hour.\n",
        "Method calculate_salary():\n",
        "Calculates the salary by multiplying the hours worked by the hourly rate.\n",
        "Derived Class Manager:\n",
        "\n",
        "Inherits from Employee.\n",
        "Additional Attribute:\n",
        "bonus: The bonus amount that the manager receives.\n",
        "Method calculate_salary():\n",
        "Calls the calculate_salary() method of the Employee class to get the base salary, then adds the bonus to it.\n",
        "Testing:\n",
        "\n",
        "An Employee object is created for Alice, and her salary is calculated.\n",
        "A Manager object is created for Bob, and his salary is calculated with an additional bonus.\n",
        "\"\"\"\n",
        "\n",
        "# Base class: Employee\n",
        "class Employee:\n",
        "    def __init__(self, name, hours_worked, hourly_rate):\n",
        "        self.name = name\n",
        "        self.hours_worked = hours_worked\n",
        "        self.hourly_rate = hourly_rate\n",
        "\n",
        "    def calculate_salary(self):\n",
        "        # Calculate the salary based on hours worked and hourly rate\n",
        "        return self.hours_worked * self.hourly_rate\n",
        "\n",
        "# Derived class: Manager\n",
        "class Manager(Employee):\n",
        "    def __init__(self, name, hours_worked, hourly_rate, bonus):\n",
        "        # Initialize attributes from Employee class and add bonus\n",
        "        super().__init__(name, hours_worked, hourly_rate)\n",
        "        self.bonus = bonus\n",
        "\n",
        "    def calculate_salary(self):\n",
        "        # Calculate the salary with bonus for the manager\n",
        "        base_salary = super().calculate_salary()\n",
        "        return base_salary + self.bonus\n",
        "\n",
        "# Test the implementation\n",
        "employee = Employee(\"Alice\", 160, 20)\n",
        "print(f\"Employee {employee.name}'s salary: ${employee.calculate_salary()}\")  # Output: Employee Alice's salary: $3200\n",
        "\n",
        "manager = Manager(\"Bob\", 160, 30, 500)  # Manager gets a $500 bonus\n",
        "print(f\"Manager {manager.name}'s salary: ${manager.calculate_salary()}\")  # Output: Manager Bob's salary: $5300\n"
      ],
      "metadata": {
        "colab": {
          "base_uri": "https://localhost:8080/"
        },
        "id": "apx_lGL7dqAr",
        "outputId": "c76b0b7a-5a0d-4732-9172-43bc8612d1b5"
      },
      "execution_count": 20,
      "outputs": [
        {
          "output_type": "stream",
          "name": "stdout",
          "text": [
            "Employee Alice's salary: $3200\n",
            "Manager Bob's salary: $5300\n"
          ]
        }
      ]
    },
    {
      "cell_type": "markdown",
      "source": [
        "Q15, Create a class Product with attributes name, price, and quantity. Implement a method total_price() that calculates the total price of the product?"
      ],
      "metadata": {
        "id": "9ypYawCZeKpe"
      }
    },
    {
      "cell_type": "code",
      "source": [
        "\"\"\"\n",
        "Here’s how you can implement a Product class with attributes name, price, and quantity, and a method total_price() to calculate the total price of the product:\n",
        "Explanation:\n",
        "Constructor __init__:\n",
        "\n",
        "Initializes the name, price, and quantity attributes of the product.\n",
        "Method total_price:\n",
        "\n",
        "Calculates the total price by multiplying the price of the product by the quantity.\n",
        "Testing:\n",
        "\n",
        "A Product object is created with a name (\"Laptop\"), a price (1000), and a quantity (3).\n",
        "The total_price() method is called to compute and display the total price.\n",
        "\"\"\"\n",
        "\n",
        "class Product:\n",
        "    def __init__(self, name, price, quantity):\n",
        "        # Initialize the product attributes\n",
        "        self.name = name\n",
        "        self.price = price\n",
        "        self.quantity = quantity\n",
        "\n",
        "    def total_price(self):\n",
        "        # Calculate the total price of the product\n",
        "        return self.price * self.quantity\n",
        "\n",
        "# Test the implementation\n",
        "product = Product(\"Laptop\", 1000, 3)\n",
        "print(f\"Total price of {product.name}: ${product.total_price()}\")  # Output: Total price of Laptop: $3000\n"
      ],
      "metadata": {
        "colab": {
          "base_uri": "https://localhost:8080/"
        },
        "id": "C94fBEy1eHC0",
        "outputId": "f478be2f-0a61-46fd-c542-5717c0e102b2"
      },
      "execution_count": 21,
      "outputs": [
        {
          "output_type": "stream",
          "name": "stdout",
          "text": [
            "Total price of Laptop: $3000\n"
          ]
        }
      ]
    },
    {
      "cell_type": "markdown",
      "source": [
        "Q16. Create a class Animal with an abstract method sound(). Create two derived classes Cow and Sheep that implement the sound() method?"
      ],
      "metadata": {
        "id": "Xcu9QeDrexyV"
      }
    },
    {
      "cell_type": "code",
      "source": [
        "\"\"\"\n",
        "To implement this scenario using Python, we need to use the abc (Abstract Base Class) module. Here’s how to create an Animal class with an abstract method sound(), and then create two derived classes Cow and Sheep that implement the sound() method:\n",
        "Explanation:\n",
        "Abstract Base Class Animal:\n",
        "\n",
        "Inherits from ABC (Abstract Base Class).\n",
        "Contains an abstract method sound() that must be implemented by any subclass.\n",
        "Derived Classes Cow and Sheep:\n",
        "\n",
        "Both classes inherit from Animal and implement the sound() method.\n",
        "Cow's implementation prints \"Moo\" and Sheep's implementation prints \"Baa\".\n",
        "Testing:\n",
        "\n",
        "Instances of Cow and Sheep are created and the sound() method is called on both, producing the respective sounds.\n",
        "\n",
        "Key Points:\n",
        "The @abstractmethod decorator ensures that any class inheriting from Animal must implement the sound() method.\n",
        "The ABC class from the abc module is used to define abstract base classes in Python.\n",
        "\"\"\"\n",
        "\n",
        "from abc import ABC, abstractmethod\n",
        "\n",
        "# Base class: Animal\n",
        "class Animal(ABC):\n",
        "    @abstractmethod\n",
        "    def sound(self):\n",
        "        pass\n",
        "\n",
        "# Derived class: Cow\n",
        "class Cow(Animal):\n",
        "    def sound(self):\n",
        "        print(\"Moo\")\n",
        "\n",
        "# Derived class: Sheep\n",
        "class Sheep(Animal):\n",
        "    def sound(self):\n",
        "        print(\"Baa\")\n",
        "\n",
        "# Test the implementation\n",
        "cow = Cow()\n",
        "sheep = Sheep()\n",
        "\n",
        "cow.sound()   # Output: Moo\n",
        "sheep.sound()  # Output: Baa\n",
        "\n",
        "\n",
        "\n",
        "\n",
        "\n"
      ],
      "metadata": {
        "colab": {
          "base_uri": "https://localhost:8080/"
        },
        "id": "g1nhaSIAekV4",
        "outputId": "a5dbcf13-cf31-4d20-e8fb-ebc467477ed3"
      },
      "execution_count": 22,
      "outputs": [
        {
          "output_type": "stream",
          "name": "stdout",
          "text": [
            "Moo\n",
            "Baa\n"
          ]
        }
      ]
    },
    {
      "cell_type": "markdown",
      "source": [
        "Q17, Create a class Book with attributes title, author, and year_published. Add a method get_book_info() that returns a formatted string with the book's details?"
      ],
      "metadata": {
        "id": "Ku0nt5YLfSPX"
      }
    },
    {
      "cell_type": "code",
      "source": [
        "\"\"\"\n",
        "Here's how you can create a Book class with the attributes title, author, and year_published, and a method get_book_info() to return the book's details in a formatted string:\n",
        "Explanation:\n",
        "Constructor __init__:\n",
        "\n",
        "Initializes the attributes title, author, and year_published when a new Book object is created.\n",
        "Method get_book_info:\n",
        "\n",
        "Returns a formatted string containing the book's details, including the title, author, and year of publication.\n",
        "Testing:\n",
        "\n",
        "A Book object is created with the title \"The Great Gatsby\", the author \"F. Scott Fitzgerald\", and the year of publication 1925.\n",
        "The get_book_info() method is called to display the formatted book information.\n",
        "\"\"\"\n",
        "\n",
        "class Book:\n",
        "    def __init__(self, title, author, year_published):\n",
        "        # Initialize the attributes of the book\n",
        "        self.title = title\n",
        "        self.author = author\n",
        "        self.year_published = year_published\n",
        "\n",
        "    def get_book_info(self):\n",
        "        # Return a formatted string with the book's details\n",
        "        return f\"'{self.title}' by {self.author}, published in {self.year_published}\"\n",
        "\n",
        "# Test the implementation\n",
        "book = Book(\"The Great Gatsby\", \"F. Scott Fitzgerald\", 1925)\n",
        "print(book.get_book_info())  # Output: 'The Great Gatsby' by F. Scott Fitzgerald, published in 1925\n"
      ],
      "metadata": {
        "colab": {
          "base_uri": "https://localhost:8080/"
        },
        "id": "UaLa_uOSfGy_",
        "outputId": "4871bc0e-0229-49a9-88c9-cb4c7346bc36"
      },
      "execution_count": 23,
      "outputs": [
        {
          "output_type": "stream",
          "name": "stdout",
          "text": [
            "'The Great Gatsby' by F. Scott Fitzgerald, published in 1925\n"
          ]
        }
      ]
    },
    {
      "cell_type": "markdown",
      "source": [
        "Q18, Create a class House with attributes address and price. Create a derived class Mansion that adds an attribute number_of_rooms?"
      ],
      "metadata": {
        "id": "Z7UEz2RZfwVG"
      }
    },
    {
      "cell_type": "code",
      "source": [
        "\"\"\"\n",
        "Here’s how you can implement a House class with attributes address and price, and a derived class Mansion that adds an additional attribute number_of_rooms:\n",
        "Explanation:\n",
        "Base Class House:\n",
        "\n",
        "Attributes:\n",
        "address: The address of the house.\n",
        "price: The price of the house.\n",
        "Method get_house_info():\n",
        "Returns a formatted string with the house's details: address and price.\n",
        "Derived Class Mansion:\n",
        "\n",
        "Inherits from House.\n",
        "Additional Attribute:\n",
        "number_of_rooms: The number of rooms in the mansion.\n",
        "Method get_mansion_info():\n",
        "Returns a formatted string containing the mansion's details, including address, price, and number of rooms.\n",
        "Uses the get_house_info() method from the base class to include the house information.\n",
        "Testing:\n",
        "\n",
        "A House object is created with an address and price, and its details are printed.\n",
        "A Mansion object is created with an address, price, and number of rooms, and its details are printed.\n",
        "\"\"\"\n",
        "\n",
        "# Base class: House\n",
        "class House:\n",
        "    def __init__(self, address, price):\n",
        "        # Initialize the attributes of the House\n",
        "        self.address = address\n",
        "        self.price = price\n",
        "\n",
        "    def get_house_info(self):\n",
        "        # Return a formatted string with the house's details\n",
        "        return f\"Address: {self.address}, Price: ${self.price}\"\n",
        "\n",
        "# Derived class: Mansion\n",
        "class Mansion(House):\n",
        "    def __init__(self, address, price, number_of_rooms):\n",
        "        # Initialize attributes from House and add the number_of_rooms attribute\n",
        "        super().__init__(address, price)\n",
        "        self.number_of_rooms = number_of_rooms\n",
        "\n",
        "    def get_mansion_info(self):\n",
        "        # Return a formatted string with mansion details, including number of rooms\n",
        "        return f\"{self.get_house_info()}, Number of Rooms: {self.number_of_rooms}\"\n",
        "\n",
        "# Test the implementation\n",
        "house = House(\"123 Main St\", 300000)\n",
        "print(house.get_house_info())  # Output: Address: 123 Main St, Price: $300000\n",
        "\n",
        "mansion = Mansion(\"456 Luxury Ave\", 5000000, 10)\n",
        "print(mansion.get_mansion_info())  # Output: Address: 456 Luxury Ave, Price: $5000000, Number of Rooms: 10\n"
      ],
      "metadata": {
        "colab": {
          "base_uri": "https://localhost:8080/"
        },
        "id": "mIr684nQfmju",
        "outputId": "56e8f2ba-766a-471b-e8e0-3271c472c89b"
      },
      "execution_count": 24,
      "outputs": [
        {
          "output_type": "stream",
          "name": "stdout",
          "text": [
            "Address: 123 Main St, Price: $300000\n",
            "Address: 456 Luxury Ave, Price: $5000000, Number of Rooms: 10\n"
          ]
        }
      ]
    },
    {
      "cell_type": "code",
      "source": [],
      "metadata": {
        "id": "KiH-tp2NgAM3"
      },
      "execution_count": null,
      "outputs": []
    }
  ]
}